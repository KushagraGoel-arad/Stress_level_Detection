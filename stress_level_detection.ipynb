{
  "nbformat": 4,
  "nbformat_minor": 0,
  "metadata": {
    "colab": {
      "provenance": [],
      "gpuType": "T4"
    },
    "kernelspec": {
      "name": "python3",
      "display_name": "Python 3"
    },
    "language_info": {
      "name": "python"
    },
    "accelerator": "GPU"
  },
  "cells": [
    {
      "cell_type": "code",
      "execution_count": 59,
      "metadata": {
        "id": "PI0xlhGojYOR"
      },
      "outputs": [],
      "source": [
        "# import os\n",
        "# import sys\n",
        "# from tempfile import NamedTemporaryFile\n",
        "# from urllib.request import urlopen\n",
        "# from urllib.parse import unquote, urlparse\n",
        "# from urllib.error import HTTPError\n",
        "# from zipfile import ZipFile\n",
        "# import tarfile\n",
        "# import shutil\n",
        "\n",
        "# CHUNK_SIZE = 40960\n",
        "# DATA_SOURCE_MAPPING = 'input-data:https%3A%2F%2Fstorage.googleapis.com%2Fkaggle-data-sets%2F2789271%2F4816636%2Fbundle%2Farchive.zip%3FX-Goog-Algorithm%3DGOOG4-RSA-SHA256%26X-Goog-Credential%3Dgcp-kaggle-com%2540kaggle-161607.iam.gserviceaccount.com%252F20240409%252Fauto%252Fstorage%252Fgoog4_request%26X-Goog-Date%3D20240409T124014Z%26X-Goog-Expires%3D259200%26X-Goog-SignedHeaders%3Dhost%26X-Goog-Signature%3D622c0a53e86829dd59916040b3359df62ba2ffc06119885ac190648b2a1910533c8075a7fb59c2c8bb5c4b138e3fddc8feaaa9aa6be23ac76c3b449289420e012b0553a75a83dad7ffce089355d71c6699833902479ffdd34428f7411b968c6bab0c81e9ca5319d6da6136eeefcbb40f43e78e7517798b1b21bf1b55bd95d645af93e6c913ed98270fb769715d7e427e2e626d730834743c2a5e42d6fc2f47cc0d55e838b6050f7a4836115ea1c13507259c56f3d21331f926215a686cb77e724f386722092751fdae54fe1441d8b31445f54bcecb289ca70f724a01175074c3a8f47f3f582813f41ee0c9c725f103e1a1240f2ae6eae312cabb92c30deebe90'\n",
        "\n",
        "# KAGGLE_INPUT_PATH='/kaggle/input'\n",
        "# KAGGLE_WORKING_PATH='/kaggle/working'\n",
        "# KAGGLE_SYMLINK='kaggle'\n",
        "\n",
        "# !umount /kaggle/input/ 2> /dev/null\n",
        "# shutil.rmtree('/kaggle/input', ignore_errors=True)\n",
        "# os.makedirs(KAGGLE_INPUT_PATH, 0o777, exist_ok=True)\n",
        "# os.makedirs(KAGGLE_WORKING_PATH, 0o777, exist_ok=True)\n",
        "\n",
        "# try:\n",
        "#   os.symlink(KAGGLE_INPUT_PATH, os.path.join(\"..\", 'input'), target_is_directory=True)\n",
        "# except FileExistsError:\n",
        "#   pass\n",
        "# try:\n",
        "#   os.symlink(KAGGLE_WORKING_PATH, os.path.join(\"..\", 'working'), target_is_directory=True)\n",
        "# except FileExistsError:\n",
        "#   pass\n",
        "\n",
        "# for data_source_mapping in DATA_SOURCE_MAPPING.split(','):\n",
        "#     directory, download_url_encoded = data_source_mapping.split(':')\n",
        "#     download_url = unquote(download_url_encoded)\n",
        "#     filename = urlparse(download_url).path\n",
        "#     destination_path = os.path.join(KAGGLE_INPUT_PATH, directory)\n",
        "#     try:\n",
        "#         with urlopen(download_url) as fileres, NamedTemporaryFile() as tfile:\n",
        "#             total_length = fileres.headers['content-length']\n",
        "#             print(f'Downloading {directory}, {total_length} bytes compressed')\n",
        "#             dl = 0\n",
        "#             data = fileres.read(CHUNK_SIZE)\n",
        "#             while len(data) > 0:\n",
        "#                 dl += len(data)\n",
        "#                 tfile.write(data)\n",
        "#                 done = int(50 * dl / int(total_length))\n",
        "#                 sys.stdout.write(f\"\\r[{'=' * done}{' ' * (50-done)}] {dl} bytes downloaded\")\n",
        "#                 sys.stdout.flush()\n",
        "#                 data = fileres.read(CHUNK_SIZE)\n",
        "#             if filename.endswith('.zip'):\n",
        "#               with ZipFile(tfile) as zfile:\n",
        "#                 zfile.extractall(destination_path)\n",
        "#             else:\n",
        "#               with tarfile.open(tfile.name) as tarfile:\n",
        "#                 tarfile.extractall(destination_path)\n",
        "#             print(f'\\nDownloaded and uncompressed: {directory}')\n",
        "#     except HTTPError as e:\n",
        "#         print(f'Failed to load (likely expired) {download_url} to path {destination_path}')\n",
        "#         continue\n",
        "#     except OSError as e:\n",
        "#         print(f'Failed to load {download_url} to path {destination_path}')\n",
        "#         continue\n",
        "\n",
        "# print('Data source import complete.')\n"
      ]
    },
    {
      "cell_type": "code",
      "source": [
        "#from google.colab import drive\n",
        "#drive.mount('/content/drive/')"
      ],
      "metadata": {
        "id": "GHYsjpVpkQoL"
      },
      "execution_count": 60,
      "outputs": []
    },
    {
      "cell_type": "code",
      "source": [
        "# import numpy as np\n",
        "# import pandas as pd\n",
        "# import matplotlib.pyplot as plt\n",
        "# import seaborn as sns\n",
        "# %matplotlib inline\n",
        "\n",
        "# import os\n",
        "# for dirname, _, filenames in os.walk('/kaggle/input-data'):\n",
        "#     for filename in filenames:\n",
        "#         print(os.path.join(dirname, filename))\n"
      ],
      "metadata": {
        "id": "GFR4-HGhkdCZ"
      },
      "execution_count": 61,
      "outputs": []
    },
    {
      "cell_type": "code",
      "source": [
        "import pandas as pd\n",
        "\n",
        "\n",
        "data=pd.read_csv('/content/Stress-Lysis.csv')\n",
        "data.head()  # displays the first five rows of the dataframe"
      ],
      "metadata": {
        "id": "ykC5V8Tski1G",
        "colab": {
          "base_uri": "https://localhost:8080/",
          "height": 206
        },
        "outputId": "526e31a2-a961-433e-e3e0-c8148c42567b"
      },
      "execution_count": 62,
      "outputs": [
        {
          "output_type": "execute_result",
          "data": {
            "text/plain": [
              "   Humidity  Temperature  Step_count  Stress_Level\n",
              "0     21.33        90.33         123             1\n",
              "1     21.41        90.41          93             1\n",
              "2     27.12        96.12         196             2\n",
              "3     27.64        96.64         177             2\n",
              "4     10.87        79.87          87             0"
            ],
            "text/html": [
              "\n",
              "  <div id=\"df-1e4ffb89-7ffb-4d57-be23-58fabed43aff\" class=\"colab-df-container\">\n",
              "    <div>\n",
              "<style scoped>\n",
              "    .dataframe tbody tr th:only-of-type {\n",
              "        vertical-align: middle;\n",
              "    }\n",
              "\n",
              "    .dataframe tbody tr th {\n",
              "        vertical-align: top;\n",
              "    }\n",
              "\n",
              "    .dataframe thead th {\n",
              "        text-align: right;\n",
              "    }\n",
              "</style>\n",
              "<table border=\"1\" class=\"dataframe\">\n",
              "  <thead>\n",
              "    <tr style=\"text-align: right;\">\n",
              "      <th></th>\n",
              "      <th>Humidity</th>\n",
              "      <th>Temperature</th>\n",
              "      <th>Step_count</th>\n",
              "      <th>Stress_Level</th>\n",
              "    </tr>\n",
              "  </thead>\n",
              "  <tbody>\n",
              "    <tr>\n",
              "      <th>0</th>\n",
              "      <td>21.33</td>\n",
              "      <td>90.33</td>\n",
              "      <td>123</td>\n",
              "      <td>1</td>\n",
              "    </tr>\n",
              "    <tr>\n",
              "      <th>1</th>\n",
              "      <td>21.41</td>\n",
              "      <td>90.41</td>\n",
              "      <td>93</td>\n",
              "      <td>1</td>\n",
              "    </tr>\n",
              "    <tr>\n",
              "      <th>2</th>\n",
              "      <td>27.12</td>\n",
              "      <td>96.12</td>\n",
              "      <td>196</td>\n",
              "      <td>2</td>\n",
              "    </tr>\n",
              "    <tr>\n",
              "      <th>3</th>\n",
              "      <td>27.64</td>\n",
              "      <td>96.64</td>\n",
              "      <td>177</td>\n",
              "      <td>2</td>\n",
              "    </tr>\n",
              "    <tr>\n",
              "      <th>4</th>\n",
              "      <td>10.87</td>\n",
              "      <td>79.87</td>\n",
              "      <td>87</td>\n",
              "      <td>0</td>\n",
              "    </tr>\n",
              "  </tbody>\n",
              "</table>\n",
              "</div>\n",
              "    <div class=\"colab-df-buttons\">\n",
              "\n",
              "  <div class=\"colab-df-container\">\n",
              "    <button class=\"colab-df-convert\" onclick=\"convertToInteractive('df-1e4ffb89-7ffb-4d57-be23-58fabed43aff')\"\n",
              "            title=\"Convert this dataframe to an interactive table.\"\n",
              "            style=\"display:none;\">\n",
              "\n",
              "  <svg xmlns=\"http://www.w3.org/2000/svg\" height=\"24px\" viewBox=\"0 -960 960 960\">\n",
              "    <path d=\"M120-120v-720h720v720H120Zm60-500h600v-160H180v160Zm220 220h160v-160H400v160Zm0 220h160v-160H400v160ZM180-400h160v-160H180v160Zm440 0h160v-160H620v160ZM180-180h160v-160H180v160Zm440 0h160v-160H620v160Z\"/>\n",
              "  </svg>\n",
              "    </button>\n",
              "\n",
              "  <style>\n",
              "    .colab-df-container {\n",
              "      display:flex;\n",
              "      gap: 12px;\n",
              "    }\n",
              "\n",
              "    .colab-df-convert {\n",
              "      background-color: #E8F0FE;\n",
              "      border: none;\n",
              "      border-radius: 50%;\n",
              "      cursor: pointer;\n",
              "      display: none;\n",
              "      fill: #1967D2;\n",
              "      height: 32px;\n",
              "      padding: 0 0 0 0;\n",
              "      width: 32px;\n",
              "    }\n",
              "\n",
              "    .colab-df-convert:hover {\n",
              "      background-color: #E2EBFA;\n",
              "      box-shadow: 0px 1px 2px rgba(60, 64, 67, 0.3), 0px 1px 3px 1px rgba(60, 64, 67, 0.15);\n",
              "      fill: #174EA6;\n",
              "    }\n",
              "\n",
              "    .colab-df-buttons div {\n",
              "      margin-bottom: 4px;\n",
              "    }\n",
              "\n",
              "    [theme=dark] .colab-df-convert {\n",
              "      background-color: #3B4455;\n",
              "      fill: #D2E3FC;\n",
              "    }\n",
              "\n",
              "    [theme=dark] .colab-df-convert:hover {\n",
              "      background-color: #434B5C;\n",
              "      box-shadow: 0px 1px 3px 1px rgba(0, 0, 0, 0.15);\n",
              "      filter: drop-shadow(0px 1px 2px rgba(0, 0, 0, 0.3));\n",
              "      fill: #FFFFFF;\n",
              "    }\n",
              "  </style>\n",
              "\n",
              "    <script>\n",
              "      const buttonEl =\n",
              "        document.querySelector('#df-1e4ffb89-7ffb-4d57-be23-58fabed43aff button.colab-df-convert');\n",
              "      buttonEl.style.display =\n",
              "        google.colab.kernel.accessAllowed ? 'block' : 'none';\n",
              "\n",
              "      async function convertToInteractive(key) {\n",
              "        const element = document.querySelector('#df-1e4ffb89-7ffb-4d57-be23-58fabed43aff');\n",
              "        const dataTable =\n",
              "          await google.colab.kernel.invokeFunction('convertToInteractive',\n",
              "                                                    [key], {});\n",
              "        if (!dataTable) return;\n",
              "\n",
              "        const docLinkHtml = 'Like what you see? Visit the ' +\n",
              "          '<a target=\"_blank\" href=https://colab.research.google.com/notebooks/data_table.ipynb>data table notebook</a>'\n",
              "          + ' to learn more about interactive tables.';\n",
              "        element.innerHTML = '';\n",
              "        dataTable['output_type'] = 'display_data';\n",
              "        await google.colab.output.renderOutput(dataTable, element);\n",
              "        const docLink = document.createElement('div');\n",
              "        docLink.innerHTML = docLinkHtml;\n",
              "        element.appendChild(docLink);\n",
              "      }\n",
              "    </script>\n",
              "  </div>\n",
              "\n",
              "\n",
              "<div id=\"df-0fed7858-43fc-4b0e-8cb9-a27cf27c0641\">\n",
              "  <button class=\"colab-df-quickchart\" onclick=\"quickchart('df-0fed7858-43fc-4b0e-8cb9-a27cf27c0641')\"\n",
              "            title=\"Suggest charts\"\n",
              "            style=\"display:none;\">\n",
              "\n",
              "<svg xmlns=\"http://www.w3.org/2000/svg\" height=\"24px\"viewBox=\"0 0 24 24\"\n",
              "     width=\"24px\">\n",
              "    <g>\n",
              "        <path d=\"M19 3H5c-1.1 0-2 .9-2 2v14c0 1.1.9 2 2 2h14c1.1 0 2-.9 2-2V5c0-1.1-.9-2-2-2zM9 17H7v-7h2v7zm4 0h-2V7h2v10zm4 0h-2v-4h2v4z\"/>\n",
              "    </g>\n",
              "</svg>\n",
              "  </button>\n",
              "\n",
              "<style>\n",
              "  .colab-df-quickchart {\n",
              "      --bg-color: #E8F0FE;\n",
              "      --fill-color: #1967D2;\n",
              "      --hover-bg-color: #E2EBFA;\n",
              "      --hover-fill-color: #174EA6;\n",
              "      --disabled-fill-color: #AAA;\n",
              "      --disabled-bg-color: #DDD;\n",
              "  }\n",
              "\n",
              "  [theme=dark] .colab-df-quickchart {\n",
              "      --bg-color: #3B4455;\n",
              "      --fill-color: #D2E3FC;\n",
              "      --hover-bg-color: #434B5C;\n",
              "      --hover-fill-color: #FFFFFF;\n",
              "      --disabled-bg-color: #3B4455;\n",
              "      --disabled-fill-color: #666;\n",
              "  }\n",
              "\n",
              "  .colab-df-quickchart {\n",
              "    background-color: var(--bg-color);\n",
              "    border: none;\n",
              "    border-radius: 50%;\n",
              "    cursor: pointer;\n",
              "    display: none;\n",
              "    fill: var(--fill-color);\n",
              "    height: 32px;\n",
              "    padding: 0;\n",
              "    width: 32px;\n",
              "  }\n",
              "\n",
              "  .colab-df-quickchart:hover {\n",
              "    background-color: var(--hover-bg-color);\n",
              "    box-shadow: 0 1px 2px rgba(60, 64, 67, 0.3), 0 1px 3px 1px rgba(60, 64, 67, 0.15);\n",
              "    fill: var(--button-hover-fill-color);\n",
              "  }\n",
              "\n",
              "  .colab-df-quickchart-complete:disabled,\n",
              "  .colab-df-quickchart-complete:disabled:hover {\n",
              "    background-color: var(--disabled-bg-color);\n",
              "    fill: var(--disabled-fill-color);\n",
              "    box-shadow: none;\n",
              "  }\n",
              "\n",
              "  .colab-df-spinner {\n",
              "    border: 2px solid var(--fill-color);\n",
              "    border-color: transparent;\n",
              "    border-bottom-color: var(--fill-color);\n",
              "    animation:\n",
              "      spin 1s steps(1) infinite;\n",
              "  }\n",
              "\n",
              "  @keyframes spin {\n",
              "    0% {\n",
              "      border-color: transparent;\n",
              "      border-bottom-color: var(--fill-color);\n",
              "      border-left-color: var(--fill-color);\n",
              "    }\n",
              "    20% {\n",
              "      border-color: transparent;\n",
              "      border-left-color: var(--fill-color);\n",
              "      border-top-color: var(--fill-color);\n",
              "    }\n",
              "    30% {\n",
              "      border-color: transparent;\n",
              "      border-left-color: var(--fill-color);\n",
              "      border-top-color: var(--fill-color);\n",
              "      border-right-color: var(--fill-color);\n",
              "    }\n",
              "    40% {\n",
              "      border-color: transparent;\n",
              "      border-right-color: var(--fill-color);\n",
              "      border-top-color: var(--fill-color);\n",
              "    }\n",
              "    60% {\n",
              "      border-color: transparent;\n",
              "      border-right-color: var(--fill-color);\n",
              "    }\n",
              "    80% {\n",
              "      border-color: transparent;\n",
              "      border-right-color: var(--fill-color);\n",
              "      border-bottom-color: var(--fill-color);\n",
              "    }\n",
              "    90% {\n",
              "      border-color: transparent;\n",
              "      border-bottom-color: var(--fill-color);\n",
              "    }\n",
              "  }\n",
              "</style>\n",
              "\n",
              "  <script>\n",
              "    async function quickchart(key) {\n",
              "      const quickchartButtonEl =\n",
              "        document.querySelector('#' + key + ' button');\n",
              "      quickchartButtonEl.disabled = true;  // To prevent multiple clicks.\n",
              "      quickchartButtonEl.classList.add('colab-df-spinner');\n",
              "      try {\n",
              "        const charts = await google.colab.kernel.invokeFunction(\n",
              "            'suggestCharts', [key], {});\n",
              "      } catch (error) {\n",
              "        console.error('Error during call to suggestCharts:', error);\n",
              "      }\n",
              "      quickchartButtonEl.classList.remove('colab-df-spinner');\n",
              "      quickchartButtonEl.classList.add('colab-df-quickchart-complete');\n",
              "    }\n",
              "    (() => {\n",
              "      let quickchartButtonEl =\n",
              "        document.querySelector('#df-0fed7858-43fc-4b0e-8cb9-a27cf27c0641 button');\n",
              "      quickchartButtonEl.style.display =\n",
              "        google.colab.kernel.accessAllowed ? 'block' : 'none';\n",
              "    })();\n",
              "  </script>\n",
              "</div>\n",
              "\n",
              "    </div>\n",
              "  </div>\n"
            ],
            "application/vnd.google.colaboratory.intrinsic+json": {
              "type": "dataframe",
              "variable_name": "data",
              "summary": "{\n  \"name\": \"data\",\n  \"rows\": 2001,\n  \"fields\": [\n    {\n      \"column\": \"Humidity\",\n      \"properties\": {\n        \"dtype\": \"number\",\n        \"std\": 5.777832638628433,\n        \"min\": 10.0,\n        \"max\": 30.0,\n        \"num_unique_values\": 2001,\n        \"samples\": [\n          11.57,\n          21.63,\n          16.12\n        ],\n        \"semantic_type\": \"\",\n        \"description\": \"\"\n      }\n    },\n    {\n      \"column\": \"Temperature\",\n      \"properties\": {\n        \"dtype\": \"number\",\n        \"std\": 5.777832638628434,\n        \"min\": 79.0,\n        \"max\": 99.0,\n        \"num_unique_values\": 2001,\n        \"samples\": [\n          80.57,\n          90.63,\n          85.12\n        ],\n        \"semantic_type\": \"\",\n        \"description\": \"\"\n      }\n    },\n    {\n      \"column\": \"Step_count\",\n      \"properties\": {\n        \"dtype\": \"number\",\n        \"std\": 58,\n        \"min\": 0,\n        \"max\": 200,\n        \"num_unique_values\": 201,\n        \"samples\": [\n          73,\n          169,\n          144\n        ],\n        \"semantic_type\": \"\",\n        \"description\": \"\"\n      }\n    },\n    {\n      \"column\": \"Stress_Level\",\n      \"properties\": {\n        \"dtype\": \"number\",\n        \"std\": 0,\n        \"min\": 0,\n        \"max\": 2,\n        \"num_unique_values\": 3,\n        \"samples\": [\n          1,\n          2,\n          0\n        ],\n        \"semantic_type\": \"\",\n        \"description\": \"\"\n      }\n    }\n  ]\n}"
            }
          },
          "metadata": {},
          "execution_count": 62
        }
      ]
    },
    {
      "cell_type": "code",
      "source": [
        "# Analyzing the Data"
      ],
      "metadata": {
        "id": "72Sw9mXWmsvI"
      },
      "execution_count": 63,
      "outputs": []
    },
    {
      "cell_type": "code",
      "source": [
        "data.shape  # returns a tuple of array dimension that specifies the number of rows and columns"
      ],
      "metadata": {
        "id": "UKhJHbwqko9O",
        "colab": {
          "base_uri": "https://localhost:8080/"
        },
        "outputId": "391ea00d-82e5-4339-f2d5-fb24d551c70a"
      },
      "execution_count": 64,
      "outputs": [
        {
          "output_type": "execute_result",
          "data": {
            "text/plain": [
              "(2001, 4)"
            ]
          },
          "metadata": {},
          "execution_count": 64
        }
      ]
    },
    {
      "cell_type": "code",
      "source": [
        "data.info()  # prints the information about the dataframe"
      ],
      "metadata": {
        "id": "_sYFRhn0lliv",
        "colab": {
          "base_uri": "https://localhost:8080/"
        },
        "outputId": "416afe47-edfa-401b-9e1d-b094d822ea8f"
      },
      "execution_count": 65,
      "outputs": [
        {
          "output_type": "stream",
          "name": "stdout",
          "text": [
            "<class 'pandas.core.frame.DataFrame'>\n",
            "RangeIndex: 2001 entries, 0 to 2000\n",
            "Data columns (total 4 columns):\n",
            " #   Column        Non-Null Count  Dtype  \n",
            "---  ------        --------------  -----  \n",
            " 0   Humidity      2001 non-null   float64\n",
            " 1   Temperature   2001 non-null   float64\n",
            " 2   Step_count    2001 non-null   int64  \n",
            " 3   Stress_Level  2001 non-null   int64  \n",
            "dtypes: float64(2), int64(2)\n",
            "memory usage: 62.7 KB\n"
          ]
        }
      ]
    },
    {
      "cell_type": "code",
      "source": [
        "#data cleaning\n"
      ],
      "metadata": {
        "id": "w7Ih5vxpmSz-"
      },
      "execution_count": 66,
      "outputs": []
    },
    {
      "cell_type": "code",
      "source": [
        "data['Stress_Level'].unique()\n"
      ],
      "metadata": {
        "id": "MJcaucHym8JC",
        "colab": {
          "base_uri": "https://localhost:8080/"
        },
        "outputId": "1958a924-a40e-4b29-9566-b3758a855749"
      },
      "execution_count": 67,
      "outputs": [
        {
          "output_type": "execute_result",
          "data": {
            "text/plain": [
              "array([1, 2, 0])"
            ]
          },
          "metadata": {},
          "execution_count": 67
        }
      ]
    },
    {
      "cell_type": "code",
      "source": [
        "data.isnull().sum()"
      ],
      "metadata": {
        "id": "7A3IgF0aoh6g",
        "colab": {
          "base_uri": "https://localhost:8080/"
        },
        "outputId": "48db836d-f0a1-45ee-8d97-f80c2daa5015"
      },
      "execution_count": 68,
      "outputs": [
        {
          "output_type": "execute_result",
          "data": {
            "text/plain": [
              "Humidity        0\n",
              "Temperature     0\n",
              "Step_count      0\n",
              "Stress_Level    0\n",
              "dtype: int64"
            ]
          },
          "metadata": {},
          "execution_count": 68
        }
      ]
    },
    {
      "cell_type": "code",
      "source": [
        "data.duplicated().sum()"
      ],
      "metadata": {
        "id": "b2VA0s0bpRae",
        "colab": {
          "base_uri": "https://localhost:8080/"
        },
        "outputId": "ff5cbd34-ab2f-4b96-eee8-5dac1e0269fc"
      },
      "execution_count": 69,
      "outputs": [
        {
          "output_type": "execute_result",
          "data": {
            "text/plain": [
              "0"
            ]
          },
          "metadata": {},
          "execution_count": 69
        }
      ]
    },
    {
      "cell_type": "code",
      "source": [
        "# EDA - EXPLORATORY DATA ANALYSIS"
      ],
      "metadata": {
        "id": "yqduJe1WpYkQ"
      },
      "execution_count": 70,
      "outputs": []
    },
    {
      "cell_type": "code",
      "source": [
        "# 1.Univariate Non-Graphical"
      ],
      "metadata": {
        "id": "O7XAYuDFpehP"
      },
      "execution_count": 71,
      "outputs": []
    },
    {
      "cell_type": "code",
      "source": [
        "#Check for outliers. If present try to handle them."
      ],
      "metadata": {
        "id": "fvp675WYqFDo"
      },
      "execution_count": 72,
      "outputs": []
    },
    {
      "cell_type": "code",
      "source": [
        "data.skew()"
      ],
      "metadata": {
        "id": "iYXNHOHYqWQv",
        "colab": {
          "base_uri": "https://localhost:8080/"
        },
        "outputId": "92b76f74-e9a9-4e54-a83e-28e7d8b57ea2"
      },
      "execution_count": 73,
      "outputs": [
        {
          "output_type": "execute_result",
          "data": {
            "text/plain": [
              "Humidity        1.179993e-18\n",
              "Temperature    -1.297993e-17\n",
              "Step_count     -6.998237e-03\n",
              "Stress_Level   -1.811032e-01\n",
              "dtype: float64"
            ]
          },
          "metadata": {},
          "execution_count": 73
        }
      ]
    },
    {
      "cell_type": "code",
      "source": [
        "# Import the necessary module\n",
        "import matplotlib.pyplot as plt\n",
        "\n",
        "# Create the boxplot\n",
        "plt.figure(figsize=(4, 4))\n",
        "plt.boxplot(data)\n",
        "plt.show()"
      ],
      "metadata": {
        "id": "ekIZqqU2qgMi",
        "colab": {
          "base_uri": "https://localhost:8080/",
          "height": 373
        },
        "outputId": "f1c39087-b186-4878-e91e-faeaa54da329"
      },
      "execution_count": 74,
      "outputs": [
        {
          "output_type": "display_data",
          "data": {
            "text/plain": [
              "<Figure size 400x400 with 1 Axes>"
            ],
            "image/png": "[encoded data removed]"
          },
          "metadata": {}
        }
      ]
    },
    {
      "cell_type": "code",
      "source": [
        "# Logarithmic Transformation\n",
        "import numpy as np\n",
        "hum_log = np.log(data['Humidity'])\n",
        "h = round(hum_log.skew(),10)\n",
        "print(h)"
      ],
      "metadata": {
        "id": "LITrSB5uqls4",
        "colab": {
          "base_uri": "https://localhost:8080/"
        },
        "outputId": "baf215bd-418d-4bf4-e827-53a32ed26051"
      },
      "execution_count": 75,
      "outputs": [
        {
          "output_type": "stream",
          "name": "stdout",
          "text": [
            "-0.3790364332\n"
          ]
        }
      ]
    },
    {
      "cell_type": "code",
      "source": [
        "# SquareRoot Transformation\n",
        "temp_sqrt = np.sqrt(data['Temperature'])\n",
        "temp_sqrt.skew()\n",
        "t = round(temp_sqrt.skew(),10)\n",
        "print(t)"
      ],
      "metadata": {
        "id": "etwgWDWkqsP4",
        "colab": {
          "base_uri": "https://localhost:8080/"
        },
        "outputId": "1303acb4-cc26-436a-fd76-5f07eab33589"
      },
      "execution_count": 76,
      "outputs": [
        {
          "output_type": "stream",
          "name": "stdout",
          "text": [
            "-0.0390881104\n"
          ]
        }
      ]
    },
    {
      "cell_type": "code",
      "source": [
        "quantile1=data[\"Step_count\"].quantile(0.25)\n",
        "quantile2=data[\"Step_count\"].quantile(0.75)"
      ],
      "metadata": {
        "id": "mRx3DTN-qwqJ"
      },
      "execution_count": 77,
      "outputs": []
    },
    {
      "cell_type": "code",
      "source": [
        "quantile1"
      ],
      "metadata": {
        "id": "cto_zSeNq4FA",
        "colab": {
          "base_uri": "https://localhost:8080/"
        },
        "outputId": "c8e13dab-392f-4783-dd7a-51900e9b1371"
      },
      "execution_count": 78,
      "outputs": [
        {
          "output_type": "execute_result",
          "data": {
            "text/plain": [
              "50.0"
            ]
          },
          "metadata": {},
          "execution_count": 78
        }
      ]
    },
    {
      "cell_type": "code",
      "source": [
        "quantile2"
      ],
      "metadata": {
        "id": "TQKT3mOerAT3",
        "colab": {
          "base_uri": "https://localhost:8080/"
        },
        "outputId": "34190d5a-7246-45ba-c4a0-380c48a590e6"
      },
      "execution_count": 79,
      "outputs": [
        {
          "output_type": "execute_result",
          "data": {
            "text/plain": [
              "150.0"
            ]
          },
          "metadata": {},
          "execution_count": 79
        }
      ]
    },
    {
      "cell_type": "code",
      "source": [
        "data[\"Step_count\"]=np.where(data[\"Step_count\"]<quantile1,quantile1,data[\"Step_count\"])\n",
        "data[\"Step_count\"]=np.where(data[\"Step_count\"]>quantile2,quantile2,data[\"Step_count\"])"
      ],
      "metadata": {
        "id": "bo6MiztcrB-L"
      },
      "execution_count": 80,
      "outputs": []
    },
    {
      "cell_type": "code",
      "source": [
        "s = round(data['Step_count'].skew(),10)\n",
        "print(s)"
      ],
      "metadata": {
        "id": "L8RKdbQOrF-I",
        "colab": {
          "base_uri": "https://localhost:8080/"
        },
        "outputId": "10a0a90f-2379-47fa-9bf5-32d78e98d04b"
      },
      "execution_count": 81,
      "outputs": [
        {
          "output_type": "stream",
          "name": "stdout",
          "text": [
            "-0.0094975784\n"
          ]
        }
      ]
    },
    {
      "cell_type": "code",
      "source": [
        "# SquareRoot Transformation\n",
        "stress_sqrt = np.sqrt(data['Stress_Level'])\n",
        "sl = round(stress_sqrt.skew(),10)\n",
        "print(sl)"
      ],
      "metadata": {
        "id": "avH6wRUEr4mf",
        "colab": {
          "base_uri": "https://localhost:8080/"
        },
        "outputId": "5981d66f-8e54-4cbe-a896-2160856da9e3"
      },
      "execution_count": 82,
      "outputs": [
        {
          "output_type": "stream",
          "name": "stdout",
          "text": [
            "-0.7944935599\n"
          ]
        }
      ]
    },
    {
      "cell_type": "code",
      "source": [
        " #  2.Univariate Graphical"
      ],
      "metadata": {
        "id": "w3FNLNp2sFDa"
      },
      "execution_count": 83,
      "outputs": []
    },
    {
      "cell_type": "code",
      "source": [
        "column=['Step_count','Humidity']\n",
        "for category in column:\n",
        "    plt.figure(figsize=(3,3))\n",
        "    plt.hist(data[category])\n",
        "    plt.title(category)\n",
        "    plt.show()"
      ],
      "metadata": {
        "id": "mmHM_vdbsML5",
        "colab": {
          "base_uri": "https://localhost:8080/",
          "height": 619
        },
        "outputId": "ab28b1e1-a030-498f-b559-6577b8fcc0a0"
      },
      "execution_count": 84,
      "outputs": [
        {
          "output_type": "display_data",
          "data": {
            "text/plain": [
              "<Figure size 300x300 with 1 Axes>"
            ],
            "image/png": "[encoded data removed]"
          },
          "metadata": {}
        },
        {
          "output_type": "display_data",
          "data": {
            "text/plain": [
              "<Figure size 300x300 with 1 Axes>"
            ],
            "image/png": "[encoded data removed]"
          },
          "metadata": {}
        }
      ]
    },
    {
      "cell_type": "code",
      "source": [
        "# histplot (categorical)\n",
        "plt.figure(figsize=(3,3))\n",
        "sns.set(font_scale=1)\n",
        "sns.histplot(data=data, x='Stress_Level')"
      ],
      "metadata": {
        "id": "j83z5KnQskWd",
        "colab": {
          "base_uri": "https://localhost:8080/",
          "height": 337
        },
        "outputId": "da92c3cf-a1ae-4087-cab2-1e5a64de7cfd"
      },
      "execution_count": 85,
      "outputs": [
        {
          "output_type": "execute_result",
          "data": {
            "text/plain": [
              "<Axes: xlabel='Stress_Level', ylabel='Count'>"
            ]
          },
          "metadata": {},
          "execution_count": 85
        },
        {
          "output_type": "display_data",
          "data": {
            "text/plain": [
              "<Figure size 300x300 with 1 Axes>"
            ],
            "image/png": "[encoded data removed]"
          },
          "metadata": {}
        }
      ]
    },
    {
      "cell_type": "code",
      "source": [
        "#    3.Multivariate Non-Graphical"
      ],
      "metadata": {
        "id": "CmKlelmWsrwc"
      },
      "execution_count": 86,
      "outputs": []
    },
    {
      "cell_type": "code",
      "source": [
        "correlation = data.corr()\n",
        "correlation"
      ],
      "metadata": {
        "id": "2pckBoe9svPn",
        "colab": {
          "base_uri": "https://localhost:8080/",
          "height": 175
        },
        "outputId": "a4874671-de55-4d43-89bd-a72a0387715e"
      },
      "execution_count": 87,
      "outputs": [
        {
          "output_type": "execute_result",
          "data": {
            "text/plain": [
              "              Humidity  Temperature  Step_count  Stress_Level\n",
              "Humidity      1.000000     1.000000    0.902053      0.936036\n",
              "Temperature   1.000000     1.000000    0.902053      0.936036\n",
              "Step_count    0.902053     0.902053    1.000000      0.859096\n",
              "Stress_Level  0.936036     0.936036    0.859096      1.000000"
            ],
            "text/html": [
              "\n",
              "  <div id=\"df-2093df53-16ad-4322-a6bf-6c37f45e1f70\" class=\"colab-df-container\">\n",
              "    <div>\n",
              "<style scoped>\n",
              "    .dataframe tbody tr th:only-of-type {\n",
              "        vertical-align: middle;\n",
              "    }\n",
              "\n",
              "    .dataframe tbody tr th {\n",
              "        vertical-align: top;\n",
              "    }\n",
              "\n",
              "    .dataframe thead th {\n",
              "        text-align: right;\n",
              "    }\n",
              "</style>\n",
              "<table border=\"1\" class=\"dataframe\">\n",
              "  <thead>\n",
              "    <tr style=\"text-align: right;\">\n",
              "      <th></th>\n",
              "      <th>Humidity</th>\n",
              "      <th>Temperature</th>\n",
              "      <th>Step_count</th>\n",
              "      <th>Stress_Level</th>\n",
              "    </tr>\n",
              "  </thead>\n",
              "  <tbody>\n",
              "    <tr>\n",
              "      <th>Humidity</th>\n",
              "      <td>1.000000</td>\n",
              "      <td>1.000000</td>\n",
              "      <td>0.902053</td>\n",
              "      <td>0.936036</td>\n",
              "    </tr>\n",
              "    <tr>\n",
              "      <th>Temperature</th>\n",
              "      <td>1.000000</td>\n",
              "      <td>1.000000</td>\n",
              "      <td>0.902053</td>\n",
              "      <td>0.936036</td>\n",
              "    </tr>\n",
              "    <tr>\n",
              "      <th>Step_count</th>\n",
              "      <td>0.902053</td>\n",
              "      <td>0.902053</td>\n",
              "      <td>1.000000</td>\n",
              "      <td>0.859096</td>\n",
              "    </tr>\n",
              "    <tr>\n",
              "      <th>Stress_Level</th>\n",
              "      <td>0.936036</td>\n",
              "      <td>0.936036</td>\n",
              "      <td>0.859096</td>\n",
              "      <td>1.000000</td>\n",
              "    </tr>\n",
              "  </tbody>\n",
              "</table>\n",
              "</div>\n",
              "    <div class=\"colab-df-buttons\">\n",
              "\n",
              "  <div class=\"colab-df-container\">\n",
              "    <button class=\"colab-df-convert\" onclick=\"convertToInteractive('df-2093df53-16ad-4322-a6bf-6c37f45e1f70')\"\n",
              "            title=\"Convert this dataframe to an interactive table.\"\n",
              "            style=\"display:none;\">\n",
              "\n",
              "  <svg xmlns=\"http://www.w3.org/2000/svg\" height=\"24px\" viewBox=\"0 -960 960 960\">\n",
              "    <path d=\"M120-120v-720h720v720H120Zm60-500h600v-160H180v160Zm220 220h160v-160H400v160Zm0 220h160v-160H400v160ZM180-400h160v-160H180v160Zm440 0h160v-160H620v160ZM180-180h160v-160H180v160Zm440 0h160v-160H620v160Z\"/>\n",
              "  </svg>\n",
              "    </button>\n",
              "\n",
              "  <style>\n",
              "    .colab-df-container {\n",
              "      display:flex;\n",
              "      gap: 12px;\n",
              "    }\n",
              "\n",
              "    .colab-df-convert {\n",
              "      background-color: #E8F0FE;\n",
              "      border: none;\n",
              "      border-radius: 50%;\n",
              "      cursor: pointer;\n",
              "      display: none;\n",
              "      fill: #1967D2;\n",
              "      height: 32px;\n",
              "      padding: 0 0 0 0;\n",
              "      width: 32px;\n",
              "    }\n",
              "\n",
              "    .colab-df-convert:hover {\n",
              "      background-color: #E2EBFA;\n",
              "      box-shadow: 0px 1px 2px rgba(60, 64, 67, 0.3), 0px 1px 3px 1px rgba(60, 64, 67, 0.15);\n",
              "      fill: #174EA6;\n",
              "    }\n",
              "\n",
              "    .colab-df-buttons div {\n",
              "      margin-bottom: 4px;\n",
              "    }\n",
              "\n",
              "    [theme=dark] .colab-df-convert {\n",
              "      background-color: #3B4455;\n",
              "      fill: #D2E3FC;\n",
              "    }\n",
              "\n",
              "    [theme=dark] .colab-df-convert:hover {\n",
              "      background-color: #434B5C;\n",
              "      box-shadow: 0px 1px 3px 1px rgba(0, 0, 0, 0.15);\n",
              "      filter: drop-shadow(0px 1px 2px rgba(0, 0, 0, 0.3));\n",
              "      fill: #FFFFFF;\n",
              "    }\n",
              "  </style>\n",
              "\n",
              "    <script>\n",
              "      const buttonEl =\n",
              "        document.querySelector('#df-2093df53-16ad-4322-a6bf-6c37f45e1f70 button.colab-df-convert');\n",
              "      buttonEl.style.display =\n",
              "        google.colab.kernel.accessAllowed ? 'block' : 'none';\n",
              "\n",
              "      async function convertToInteractive(key) {\n",
              "        const element = document.querySelector('#df-2093df53-16ad-4322-a6bf-6c37f45e1f70');\n",
              "        const dataTable =\n",
              "          await google.colab.kernel.invokeFunction('convertToInteractive',\n",
              "                                                    [key], {});\n",
              "        if (!dataTable) return;\n",
              "\n",
              "        const docLinkHtml = 'Like what you see? Visit the ' +\n",
              "          '<a target=\"_blank\" href=https://colab.research.google.com/notebooks/data_table.ipynb>data table notebook</a>'\n",
              "          + ' to learn more about interactive tables.';\n",
              "        element.innerHTML = '';\n",
              "        dataTable['output_type'] = 'display_data';\n",
              "        await google.colab.output.renderOutput(dataTable, element);\n",
              "        const docLink = document.createElement('div');\n",
              "        docLink.innerHTML = docLinkHtml;\n",
              "        element.appendChild(docLink);\n",
              "      }\n",
              "    </script>\n",
              "  </div>\n",
              "\n",
              "\n",
              "<div id=\"df-8ed69e65-5761-4c6b-8f7a-47845a05bdbd\">\n",
              "  <button class=\"colab-df-quickchart\" onclick=\"quickchart('df-8ed69e65-5761-4c6b-8f7a-47845a05bdbd')\"\n",
              "            title=\"Suggest charts\"\n",
              "            style=\"display:none;\">\n",
              "\n",
              "<svg xmlns=\"http://www.w3.org/2000/svg\" height=\"24px\"viewBox=\"0 0 24 24\"\n",
              "     width=\"24px\">\n",
              "    <g>\n",
              "        <path d=\"M19 3H5c-1.1 0-2 .9-2 2v14c0 1.1.9 2 2 2h14c1.1 0 2-.9 2-2V5c0-1.1-.9-2-2-2zM9 17H7v-7h2v7zm4 0h-2V7h2v10zm4 0h-2v-4h2v4z\"/>\n",
              "    </g>\n",
              "</svg>\n",
              "  </button>\n",
              "\n",
              "<style>\n",
              "  .colab-df-quickchart {\n",
              "      --bg-color: #E8F0FE;\n",
              "      --fill-color: #1967D2;\n",
              "      --hover-bg-color: #E2EBFA;\n",
              "      --hover-fill-color: #174EA6;\n",
              "      --disabled-fill-color: #AAA;\n",
              "      --disabled-bg-color: #DDD;\n",
              "  }\n",
              "\n",
              "  [theme=dark] .colab-df-quickchart {\n",
              "      --bg-color: #3B4455;\n",
              "      --fill-color: #D2E3FC;\n",
              "      --hover-bg-color: #434B5C;\n",
              "      --hover-fill-color: #FFFFFF;\n",
              "      --disabled-bg-color: #3B4455;\n",
              "      --disabled-fill-color: #666;\n",
              "  }\n",
              "\n",
              "  .colab-df-quickchart {\n",
              "    background-color: var(--bg-color);\n",
              "    border: none;\n",
              "    border-radius: 50%;\n",
              "    cursor: pointer;\n",
              "    display: none;\n",
              "    fill: var(--fill-color);\n",
              "    height: 32px;\n",
              "    padding: 0;\n",
              "    width: 32px;\n",
              "  }\n",
              "\n",
              "  .colab-df-quickchart:hover {\n",
              "    background-color: var(--hover-bg-color);\n",
              "    box-shadow: 0 1px 2px rgba(60, 64, 67, 0.3), 0 1px 3px 1px rgba(60, 64, 67, 0.15);\n",
              "    fill: var(--button-hover-fill-color);\n",
              "  }\n",
              "\n",
              "  .colab-df-quickchart-complete:disabled,\n",
              "  .colab-df-quickchart-complete:disabled:hover {\n",
              "    background-color: var(--disabled-bg-color);\n",
              "    fill: var(--disabled-fill-color);\n",
              "    box-shadow: none;\n",
              "  }\n",
              "\n",
              "  .colab-df-spinner {\n",
              "    border: 2px solid var(--fill-color);\n",
              "    border-color: transparent;\n",
              "    border-bottom-color: var(--fill-color);\n",
              "    animation:\n",
              "      spin 1s steps(1) infinite;\n",
              "  }\n",
              "\n",
              "  @keyframes spin {\n",
              "    0% {\n",
              "      border-color: transparent;\n",
              "      border-bottom-color: var(--fill-color);\n",
              "      border-left-color: var(--fill-color);\n",
              "    }\n",
              "    20% {\n",
              "      border-color: transparent;\n",
              "      border-left-color: var(--fill-color);\n",
              "      border-top-color: var(--fill-color);\n",
              "    }\n",
              "    30% {\n",
              "      border-color: transparent;\n",
              "      border-left-color: var(--fill-color);\n",
              "      border-top-color: var(--fill-color);\n",
              "      border-right-color: var(--fill-color);\n",
              "    }\n",
              "    40% {\n",
              "      border-color: transparent;\n",
              "      border-right-color: var(--fill-color);\n",
              "      border-top-color: var(--fill-color);\n",
              "    }\n",
              "    60% {\n",
              "      border-color: transparent;\n",
              "      border-right-color: var(--fill-color);\n",
              "    }\n",
              "    80% {\n",
              "      border-color: transparent;\n",
              "      border-right-color: var(--fill-color);\n",
              "      border-bottom-color: var(--fill-color);\n",
              "    }\n",
              "    90% {\n",
              "      border-color: transparent;\n",
              "      border-bottom-color: var(--fill-color);\n",
              "    }\n",
              "  }\n",
              "</style>\n",
              "\n",
              "  <script>\n",
              "    async function quickchart(key) {\n",
              "      const quickchartButtonEl =\n",
              "        document.querySelector('#' + key + ' button');\n",
              "      quickchartButtonEl.disabled = true;  // To prevent multiple clicks.\n",
              "      quickchartButtonEl.classList.add('colab-df-spinner');\n",
              "      try {\n",
              "        const charts = await google.colab.kernel.invokeFunction(\n",
              "            'suggestCharts', [key], {});\n",
              "      } catch (error) {\n",
              "        console.error('Error during call to suggestCharts:', error);\n",
              "      }\n",
              "      quickchartButtonEl.classList.remove('colab-df-spinner');\n",
              "      quickchartButtonEl.classList.add('colab-df-quickchart-complete');\n",
              "    }\n",
              "    (() => {\n",
              "      let quickchartButtonEl =\n",
              "        document.querySelector('#df-8ed69e65-5761-4c6b-8f7a-47845a05bdbd button');\n",
              "      quickchartButtonEl.style.display =\n",
              "        google.colab.kernel.accessAllowed ? 'block' : 'none';\n",
              "    })();\n",
              "  </script>\n",
              "</div>\n",
              "\n",
              "  <div id=\"id_6780d6b3-80a7-44f3-bf78-7040354721aa\">\n",
              "    <style>\n",
              "      .colab-df-generate {\n",
              "        background-color: #E8F0FE;\n",
              "        border: none;\n",
              "        border-radius: 50%;\n",
              "        cursor: pointer;\n",
              "        display: none;\n",
              "        fill: #1967D2;\n",
              "        height: 32px;\n",
              "        padding: 0 0 0 0;\n",
              "        width: 32px;\n",
              "      }\n",
              "\n",
              "      .colab-df-generate:hover {\n",
              "        background-color: #E2EBFA;\n",
              "        box-shadow: 0px 1px 2px rgba(60, 64, 67, 0.3), 0px 1px 3px 1px rgba(60, 64, 67, 0.15);\n",
              "        fill: #174EA6;\n",
              "      }\n",
              "\n",
              "      [theme=dark] .colab-df-generate {\n",
              "        background-color: #3B4455;\n",
              "        fill: #D2E3FC;\n",
              "      }\n",
              "\n",
              "      [theme=dark] .colab-df-generate:hover {\n",
              "        background-color: #434B5C;\n",
              "        box-shadow: 0px 1px 3px 1px rgba(0, 0, 0, 0.15);\n",
              "        filter: drop-shadow(0px 1px 2px rgba(0, 0, 0, 0.3));\n",
              "        fill: #FFFFFF;\n",
              "      }\n",
              "    </style>\n",
              "    <button class=\"colab-df-generate\" onclick=\"generateWithVariable('correlation')\"\n",
              "            title=\"Generate code using this dataframe.\"\n",
              "            style=\"display:none;\">\n",
              "\n",
              "  <svg xmlns=\"http://www.w3.org/2000/svg\" height=\"24px\"viewBox=\"0 0 24 24\"\n",
              "       width=\"24px\">\n",
              "    <path d=\"M7,19H8.4L18.45,9,17,7.55,7,17.6ZM5,21V16.75L18.45,3.32a2,2,0,0,1,2.83,0l1.4,1.43a1.91,1.91,0,0,1,.58,1.4,1.91,1.91,0,0,1-.58,1.4L9.25,21ZM18.45,9,17,7.55Zm-12,3A5.31,5.31,0,0,0,4.9,8.1,5.31,5.31,0,0,0,1,6.5,5.31,5.31,0,0,0,4.9,4.9,5.31,5.31,0,0,0,6.5,1,5.31,5.31,0,0,0,8.1,4.9,5.31,5.31,0,0,0,12,6.5,5.46,5.46,0,0,0,6.5,12Z\"/>\n",
              "  </svg>\n",
              "    </button>\n",
              "    <script>\n",
              "      (() => {\n",
              "      const buttonEl =\n",
              "        document.querySelector('#id_6780d6b3-80a7-44f3-bf78-7040354721aa button.colab-df-generate');\n",
              "      buttonEl.style.display =\n",
              "        google.colab.kernel.accessAllowed ? 'block' : 'none';\n",
              "\n",
              "      buttonEl.onclick = () => {\n",
              "        google.colab.notebook.generateWithVariable('correlation');\n",
              "      }\n",
              "      })();\n",
              "    </script>\n",
              "  </div>\n",
              "\n",
              "    </div>\n",
              "  </div>\n"
            ],
            "application/vnd.google.colaboratory.intrinsic+json": {
              "type": "dataframe",
              "variable_name": "correlation",
              "summary": "{\n  \"name\": \"correlation\",\n  \"rows\": 4,\n  \"fields\": [\n    {\n      \"column\": \"Humidity\",\n      \"properties\": {\n        \"dtype\": \"number\",\n        \"std\": 0.04875517693359747,\n        \"min\": 0.9020529971590782,\n        \"max\": 1.0,\n        \"num_unique_values\": 4,\n        \"samples\": [\n          0.9999999999999996,\n          0.9360362899114488,\n          1.0\n        ],\n        \"semantic_type\": \"\",\n        \"description\": \"\"\n      }\n    },\n    {\n      \"column\": \"Temperature\",\n      \"properties\": {\n        \"dtype\": \"number\",\n        \"std\": 0.048755176933597065,\n        \"min\": 0.9020529971590793,\n        \"max\": 1.0,\n        \"num_unique_values\": 4,\n        \"samples\": [\n          1.0,\n          0.9360362899114486,\n          0.9999999999999996\n        ],\n        \"semantic_type\": \"\",\n        \"description\": \"\"\n      }\n    },\n    {\n      \"column\": \"Step_count\",\n      \"properties\": {\n        \"dtype\": \"number\",\n        \"std\": 0.05967396990617498,\n        \"min\": 0.8590959624027545,\n        \"max\": 1.0,\n        \"num_unique_values\": 4,\n        \"samples\": [\n          0.9020529971590793,\n          0.8590959624027545,\n          0.9020529971590782\n        ],\n        \"semantic_type\": \"\",\n        \"description\": \"\"\n      }\n    },\n    {\n      \"column\": \"Stress_Level\",\n      \"properties\": {\n        \"dtype\": \"number\",\n        \"std\": 0.057645676494484155,\n        \"min\": 0.8590959624027545,\n        \"max\": 1.0,\n        \"num_unique_values\": 4,\n        \"samples\": [\n          0.9360362899114486,\n          1.0,\n          0.9360362899114488\n        ],\n        \"semantic_type\": \"\",\n        \"description\": \"\"\n      }\n    }\n  ]\n}"
            }
          },
          "metadata": {},
          "execution_count": 87
        }
      ]
    },
    {
      "cell_type": "code",
      "source": [
        "plt.figure(figsize=(3,3))\n",
        "sns.heatmap(correlation,annot=True,cmap='crest',linewidths=0.2)\n",
        "plt.show()"
      ],
      "metadata": {
        "id": "vK_L52Y0sxhZ",
        "colab": {
          "base_uri": "https://localhost:8080/",
          "height": 384
        },
        "outputId": "1925ffe8-85c8-4e65-d80a-a296a99e16b8"
      },
      "execution_count": 88,
      "outputs": [
        {
          "output_type": "display_data",
          "data": {
            "text/plain": [
              "<Figure size 300x300 with 2 Axes>"
            ],
            "image/png": "[encoded data removed]"
          },
          "metadata": {}
        }
      ]
    },
    {
      "cell_type": "code",
      "source": [
        " # 4.Multivariate Graphical"
      ],
      "metadata": {
        "id": "gTYoavG5s6t6"
      },
      "execution_count": 89,
      "outputs": []
    },
    {
      "cell_type": "code",
      "source": [
        "plt.figure(figsize=(3,3))\n",
        "sns.scatterplot(x='Humidity',y='Temperature',hue='Stress_Level',data=data)\n",
        "plt.show()"
      ],
      "metadata": {
        "id": "ewH1dqMas_-9",
        "colab": {
          "base_uri": "https://localhost:8080/",
          "height": 325
        },
        "outputId": "65075014-3776-4133-ff14-23e3b73e62a7"
      },
      "execution_count": 90,
      "outputs": [
        {
          "output_type": "display_data",
          "data": {
            "text/plain": [
              "<Figure size 300x300 with 1 Axes>"
            ],
            "image/png": "[encoded data removed]"
          },
          "metadata": {}
        }
      ]
    },
    {
      "cell_type": "code",
      "source": [
        "import os\n",
        "import sys\n",
        "from tempfile import NamedTemporaryFile\n",
        "from urllib.request import urlopen\n",
        "from urllib.parse import unquote, urlparse\n",
        "from urllib.error import HTTPError\n",
        "from zipfile import ZipFile\n",
        "import tarfile\n",
        "import shutil\n",
        "import numpy as np\n",
        "import pandas as pd\n",
        "from sklearn.model_selection import train_test_split\n",
        "from sklearn.linear_model import LogisticRegression\n",
        "from sklearn.ensemble import RandomForestClassifier\n",
        "from sklearn.svm import SVC\n",
        "from sklearn.preprocessing import StandardScaler\n",
        "from joblib import dump\n",
        "from contextlib import ExitStack\n",
        "\n",
        "# # Function to download and extract data\n",
        "# def download_and_extract_data(data_source_mapping, kaggle_input_path):\n",
        "#     CHUNK_SIZE = 40960\n",
        "#     for data_source_mapping in data_source_mapping.split(','):\n",
        "#         directory, download_url_encoded = data_source_mapping.split(':')\n",
        "#         download_url = unquote(download_url_encoded)\n",
        "#         filename = urlparse(download_url).path\n",
        "#         destination_path = os.path.join(kaggle_input_path, directory)\n",
        "#         try:\n",
        "#             with urlopen(download_url) as fileres, NamedTemporaryFile() as tfile:\n",
        "#                 total_length = fileres.headers['content-length']\n",
        "#                 print(f'Downloading {directory}, {total_length} bytes compressed')\n",
        "#                 dl = 0\n",
        "#                 data = fileres.read(CHUNK_SIZE)\n",
        "#                 while len(data) > 0:\n",
        "#                     dl += len(data)\n",
        "#                     tfile.write(data)\n",
        "#                     done = int(50 * dl / int(total_length))\n",
        "#                     sys.stdout.write(f\"\\r[{'=' * done}{' ' * (50-done)}] {dl} bytes downloaded\")\n",
        "#                     sys.stdout.flush()\n",
        "#                     data = fileres.read(CHUNK_SIZE)\n",
        "#                 if filename.endswith('.zip'):\n",
        "#                     with ZipFile(tfile) as zfile:\n",
        "#                         zfile.extractall(destination_path)\n",
        "#                 else:\n",
        "#                     with tarfile.open(tfile.name) as tarfile:\n",
        "#                         tarfile.extractall(destination_path)\n",
        "#                 print(f'\\nDownloaded and uncompressed: {directory}')\n",
        "#         except HTTPError as e:\n",
        "#             print(f'Failed to load (likely expired) {download_url} to path {destination_path}')\n",
        "#             continue\n",
        "#         except OSError as e:\n",
        "#             print(f'Failed to load {download_url} to path {destination_path}')\n",
        "#             continue\n",
        "#     print('Data source import complete.')"
      ],
      "metadata": {
        "id": "h1xVSzA6tnrg"
      },
      "execution_count": 91,
      "outputs": []
    },
    {
      "cell_type": "code",
      "source": [
        "# import os\n",
        "# import pickle\n",
        "# import random\n",
        "\n",
        "# import numpy as np\n",
        "# import pandas as pd\n",
        "# from sklearn.linear_model import LogisticRegression\n",
        "# from sklearn.ensemble import RandomForestClassifier\n",
        "# from sklearn.svm import SVC\n",
        "# from sklearn.model_selection import train_test_split\n",
        "# from sklearn.preprocessing import StandardScaler\n",
        "# from sklearn.metrics import accuracy_score\n",
        "\n",
        "# def load_data(file_path):\n",
        "#     \"\"\"Load the data from the given file path.\"\"\"\n",
        "#     data = pd.read_csv(file_path)\n",
        "#     return data\n",
        "\n",
        "# def evaluate_models(X_train, y_train, X_test, y_test, models):\n",
        "#     \"\"\"Evaluate the given models on the training and testing sets.\"\"\"\n",
        "#     model_scores = {}\n",
        "#     for model_name, model in models.items():\n",
        "#         model.fit(X_train, y_train)\n",
        "#         y_pred = model.predict(X_test)\n",
        "#         score = accuracy_score(y_test, y_pred)\n",
        "#         model_scores[model_name] = score\n",
        "#     return model_scores\n",
        "\n",
        "# if __name__ == '__main__':\n",
        "#     # Load the data\n",
        "#     file_path = '/content/Stress-Lysis.csv'\n",
        "#     data = load_data(file_path)\n",
        "\n",
        "#     # Separate features and target\n",
        "#     X = data.drop(['Stress_Level'], axis=1)\n",
        "#     y = data['Stress_Level']\n",
        "\n",
        "#     # Split the data into training and testing sets\n",
        "#     X_train, X_test, y_train, y_test = train_test_split(X, y, test_size=0.2, random_state=42)\n",
        "\n",
        "#     # Standardize features by removing the mean and scaling to unit variance\n",
        "#     scaler = StandardScaler()\n",
        "#     X_train_scaled = scaler.fit_transform(X_train)\n",
        "#     X_test_scaled = scaler.transform(X_test)\n",
        "\n",
        "#     # Initialize models\n",
        "#     models = {\n",
        "#         'Logistic Regression': LogisticRegression(C=1.0, random_state=2),\n",
        "#         'Random Forest': RandomForestClassifier(n_estimators=100, max_depth=3, random_state=0),\n",
        "#         'SVM': SVC(kernel='linear', random_state=0)\n",
        "#     }\n",
        "\n",
        "#     # Evaluate models\n",
        "#     model_scores = evaluate_models(X_train_scaled, y_train, X_test_scaled, y_test, models)\n",
        "\n",
        "#     # Print the model scores\n",
        "#     print(\"Model Scores:\")\n",
        "#     for model_name, score in model_scores.items():\n",
        "#         print(f\"{model_name}: {score}\")\n",
        "\n",
        "#     # Save the trained models and scaler\n",
        "#     output_dir = 'output'\n",
        "#     if not os.path.exists(output_dir):\n",
        "#         os.makedirs(output_dir)\n",
        "#     output_file = os.path.join(output_dir, 'models.pkl')\n",
        "#     with open(output_file, 'wb') as f:\n",
        "#         pickle.dump(models, f)\n",
        "#     output_file = os.path.join(output_dir, 'scaler.pkl')\n",
        "#     with open(output_file, 'wb') as f:\n",
        "#         pickle.dump(scaler, f)"
      ],
      "metadata": {
        "colab": {
          "base_uri": "https://localhost:8080/"
        },
        "id": "0bof-k4BMMJS",
        "outputId": "afa64fb2-61bf-40f9-901d-b08587fd2407"
      },
      "execution_count": 92,
      "outputs": [
        {
          "output_type": "stream",
          "name": "stdout",
          "text": [
            "Model Scores:\n",
            "Logistic Regression: 1.0\n",
            "Random Forest: 1.0\n",
            "SVM: 1.0\n"
          ]
        }
      ]
    },
    {
      "cell_type": "code",
      "source": [
        "from sklearn.model_selection import train_test_split\n",
        "X=data.drop(['Stress_Level'],axis=1)\n",
        "y=data['Stress_Level']\n",
        "X_train,X_test,y_train,y_test = train_test_split(X,y,test_size=0.2,random_state=42)\n",
        "\n",
        "print(\"X_train shape:\", X_train.shape)\n",
        "print(\"y_train shape:\", y_train.shape)\n",
        "print(\"X_test shape:\", X_test.shape)\n",
        "print(\"y_test shape:\", y_test.shape)"
      ],
      "metadata": {
        "id": "uqsVYRL7uX3W",
        "colab": {
          "base_uri": "https://localhost:8080/"
        },
        "outputId": "b7f63c99-1c17-40c4-9955-e98ff0481ef9"
      },
      "execution_count": 118,
      "outputs": [
        {
          "output_type": "stream",
          "name": "stdout",
          "text": [
            "X_train shape: (1600, 3)\n",
            "y_train shape: (1600,)\n",
            "X_test shape: (401, 3)\n",
            "y_test shape: (401,)\n"
          ]
        }
      ]
    },
    {
      "cell_type": "code",
      "source": [
        "#  LOGISTIC REGRESSION"
      ],
      "metadata": {
        "id": "7MVnvZe1ul5N"
      },
      "execution_count": 94,
      "outputs": []
    },
    {
      "cell_type": "code",
      "source": [
        "from sklearn.linear_model import LogisticRegression\n",
        "regressor = LogisticRegression(C=1.0,random_state=2)\n",
        "regressor.fit(X_train,y_train)"
      ],
      "metadata": {
        "id": "zMupiWcHurYN",
        "colab": {
          "base_uri": "https://localhost:8080/",
          "height": 213
        },
        "outputId": "b4b2f27c-6a12-4921-fe91-c973a99c7aac"
      },
      "execution_count": 119,
      "outputs": [
        {
          "output_type": "stream",
          "name": "stderr",
          "text": [
            "/usr/local/lib/python3.10/dist-packages/sklearn/linear_model/_logistic.py:458: ConvergenceWarning: lbfgs failed to converge (status=1):\n",
            "STOP: TOTAL NO. of ITERATIONS REACHED LIMIT.\n",
            "\n",
            "Increase the number of iterations (max_iter) or scale the data as shown in:\n",
            "    https://scikit-learn.org/stable/modules/preprocessing.html\n",
            "Please also refer to the documentation for alternative solver options:\n",
            "    https://scikit-learn.org/stable/modules/linear_model.html#logistic-regression\n",
            "  n_iter_i = _check_optimize_result(\n"
          ]
        },
        {
          "output_type": "execute_result",
          "data": {
            "text/plain": [
              "LogisticRegression(random_state=2)"
            ],
            "text/html": [
              "<style>#sk-container-id-5 {color: black;background-color: white;}#sk-container-id-5 pre{padding: 0;}#sk-container-id-5 div.sk-toggleable {background-color: white;}#sk-container-id-5 label.sk-toggleable__label {cursor: pointer;display: block;width: 100%;margin-bottom: 0;padding: 0.3em;box-sizing: border-box;text-align: center;}#sk-container-id-5 label.sk-toggleable__label-arrow:before {content: \"▸\";float: left;margin-right: 0.25em;color: #696969;}#sk-container-id-5 label.sk-toggleable__label-arrow:hover:before {color: black;}#sk-container-id-5 div.sk-estimator:hover label.sk-toggleable__label-arrow:before {color: black;}#sk-container-id-5 div.sk-toggleable__content {max-height: 0;max-width: 0;overflow: hidden;text-align: left;background-color: #f0f8ff;}#sk-container-id-5 div.sk-toggleable__content pre {margin: 0.2em;color: black;border-radius: 0.25em;background-color: #f0f8ff;}#sk-container-id-5 input.sk-toggleable__control:checked~div.sk-toggleable__content {max-height: 200px;max-width: 100%;overflow: auto;}#sk-container-id-5 input.sk-toggleable__control:checked~label.sk-toggleable__label-arrow:before {content: \"▾\";}#sk-container-id-5 div.sk-estimator input.sk-toggleable__control:checked~label.sk-toggleable__label {background-color: #d4ebff;}#sk-container-id-5 div.sk-label input.sk-toggleable__control:checked~label.sk-toggleable__label {background-color: #d4ebff;}#sk-container-id-5 input.sk-hidden--visually {border: 0;clip: rect(1px 1px 1px 1px);clip: rect(1px, 1px, 1px, 1px);height: 1px;margin: -1px;overflow: hidden;padding: 0;position: absolute;width: 1px;}#sk-container-id-5 div.sk-estimator {font-family: monospace;background-color: #f0f8ff;border: 1px dotted black;border-radius: 0.25em;box-sizing: border-box;margin-bottom: 0.5em;}#sk-container-id-5 div.sk-estimator:hover {background-color: #d4ebff;}#sk-container-id-5 div.sk-parallel-item::after {content: \"\";width: 100%;border-bottom: 1px solid gray;flex-grow: 1;}#sk-container-id-5 div.sk-label:hover label.sk-toggleable__label {background-color: #d4ebff;}#sk-container-id-5 div.sk-serial::before {content: \"\";position: absolute;border-left: 1px solid gray;box-sizing: border-box;top: 0;bottom: 0;left: 50%;z-index: 0;}#sk-container-id-5 div.sk-serial {display: flex;flex-direction: column;align-items: center;background-color: white;padding-right: 0.2em;padding-left: 0.2em;position: relative;}#sk-container-id-5 div.sk-item {position: relative;z-index: 1;}#sk-container-id-5 div.sk-parallel {display: flex;align-items: stretch;justify-content: center;background-color: white;position: relative;}#sk-container-id-5 div.sk-item::before, #sk-container-id-5 div.sk-parallel-item::before {content: \"\";position: absolute;border-left: 1px solid gray;box-sizing: border-box;top: 0;bottom: 0;left: 50%;z-index: -1;}#sk-container-id-5 div.sk-parallel-item {display: flex;flex-direction: column;z-index: 1;position: relative;background-color: white;}#sk-container-id-5 div.sk-parallel-item:first-child::after {align-self: flex-end;width: 50%;}#sk-container-id-5 div.sk-parallel-item:last-child::after {align-self: flex-start;width: 50%;}#sk-container-id-5 div.sk-parallel-item:only-child::after {width: 0;}#sk-container-id-5 div.sk-dashed-wrapped {border: 1px dashed gray;margin: 0 0.4em 0.5em 0.4em;box-sizing: border-box;padding-bottom: 0.4em;background-color: white;}#sk-container-id-5 div.sk-label label {font-family: monospace;font-weight: bold;display: inline-block;line-height: 1.2em;}#sk-container-id-5 div.sk-label-container {text-align: center;}#sk-container-id-5 div.sk-container {/* jupyter's `normalize.less` sets `[hidden] { display: none; }` but bootstrap.min.css set `[hidden] { display: none !important; }` so we also need the `!important` here to be able to override the default hidden behavior on the sphinx rendered scikit-learn.org. See: https://github.com/scikit-learn/scikit-learn/issues/21755 */display: inline-block !important;position: relative;}#sk-container-id-5 div.sk-text-repr-fallback {display: none;}</style><div id=\"sk-container-id-5\" class=\"sk-top-container\"><div class=\"sk-text-repr-fallback\"><pre>LogisticRegression(random_state=2)</pre><b>In a Jupyter environment, please rerun this cell to show the HTML representation or trust the notebook. <br />On GitHub, the HTML representation is unable to render, please try loading this page with nbviewer.org.</b></div><div class=\"sk-container\" hidden><div class=\"sk-item\"><div class=\"sk-estimator sk-toggleable\"><input class=\"sk-toggleable__control sk-hidden--visually\" id=\"sk-estimator-id-5\" type=\"checkbox\" checked><label for=\"sk-estimator-id-5\" class=\"sk-toggleable__label sk-toggleable__label-arrow\">LogisticRegression</label><div class=\"sk-toggleable__content\"><pre>LogisticRegression(random_state=2)</pre></div></div></div></div></div>"
            ]
          },
          "metadata": {},
          "execution_count": 119
        }
      ]
    },
    {
      "cell_type": "code",
      "source": [
        "filename = 'logistic_model.sav'\n",
        "pickle.dump(regressor,open(filename,'wb'))"
      ],
      "metadata": {
        "id": "d5DDX68L8DLL"
      },
      "execution_count": 120,
      "outputs": []
    },
    {
      "cell_type": "code",
      "source": [
        "from sklearn.metrics import accuracy_score, confusion_matrix\n",
        "prediction = regressor.predict(X_test)\n",
        "confusionmatrix = confusion_matrix(y_test,prediction)\n",
        "print(confusionmatrix)"
      ],
      "metadata": {
        "id": "gYTPHxlNu9WO",
        "colab": {
          "base_uri": "https://localhost:8080/"
        },
        "outputId": "1d5ef463-d842-41fb-c307-42d7ce69f758"
      },
      "execution_count": 121,
      "outputs": [
        {
          "output_type": "stream",
          "name": "stdout",
          "text": [
            "[[ 95   0   0]\n",
            " [  0 160   0]\n",
            " [  0   0 146]]\n"
          ]
        }
      ]
    },
    {
      "cell_type": "code",
      "source": [
        "print(accuracy_score(y_test,prediction))"
      ],
      "metadata": {
        "id": "39i98S4GvEGP",
        "colab": {
          "base_uri": "https://localhost:8080/"
        },
        "outputId": "59abe93b-f84d-45e4-af62-9303ef3593f7"
      },
      "execution_count": 122,
      "outputs": [
        {
          "output_type": "stream",
          "name": "stdout",
          "text": [
            "1.0\n"
          ]
        }
      ]
    },
    {
      "cell_type": "code",
      "source": [
        "# RANDOM FOREST CLASSIFICATION"
      ],
      "metadata": {
        "id": "P2zvO8FtvVF-"
      },
      "execution_count": 123,
      "outputs": []
    },
    {
      "cell_type": "code",
      "source": [
        "from sklearn.ensemble import RandomForestClassifier\n",
        "model=RandomForestClassifier(n_estimators=100,max_depth=3,random_state=0)\n",
        "model.fit(X,y)\n",
        "prediction = model.predict(X_test)\n",
        "confusionmatrix = confusion_matrix(y_test,prediction)\n",
        "print(confusionmatrix)"
      ],
      "metadata": {
        "id": "8B_-lt-pvbXy",
        "colab": {
          "base_uri": "https://localhost:8080/"
        },
        "outputId": "aa48830f-c10f-40e5-8649-f9b9408946d5"
      },
      "execution_count": 124,
      "outputs": [
        {
          "output_type": "stream",
          "name": "stdout",
          "text": [
            "[[ 95   0   0]\n",
            " [  0 160   0]\n",
            " [  0   0 146]]\n"
          ]
        }
      ]
    },
    {
      "cell_type": "code",
      "source": [
        "filename = 'random_forest_model.sav'\n",
        "pickle.dump(model,open(filename,'wb'))\n",
        "print(accuracy_score(y_test,prediction))"
      ],
      "metadata": {
        "id": "5-Ke_5yKvjHX",
        "colab": {
          "base_uri": "https://localhost:8080/"
        },
        "outputId": "003e9683-b4b3-47e9-b173-b77e5684afcd"
      },
      "execution_count": 101,
      "outputs": [
        {
          "output_type": "stream",
          "name": "stdout",
          "text": [
            "1.0\n"
          ]
        }
      ]
    },
    {
      "cell_type": "code",
      "source": [
        "#  SUPPORT VECTOR MACHINE"
      ],
      "metadata": {
        "id": "ZO5gkvjzvlgN"
      },
      "execution_count": 102,
      "outputs": []
    },
    {
      "cell_type": "code",
      "source": [
        "from sklearn.preprocessing import StandardScaler\n",
        "standardscalar = StandardScaler()\n",
        "X_train = standardscalar.fit_transform(X_train)\n",
        "X_test = standardscalar.transform(X_train)"
      ],
      "metadata": {
        "id": "X4erioG1vpdG"
      },
      "execution_count": 129,
      "outputs": []
    },
    {
      "cell_type": "code",
      "source": [
        "filename = 'stress_scaler.sav'\n",
        "pickle.dump(standardscalar,open(filename,'wb'))"
      ],
      "metadata": {
        "id": "GdAUmwBqBwqi"
      },
      "execution_count": 130,
      "outputs": []
    },
    {
      "cell_type": "code",
      "source": [
        "from sklearn.svm import SVC\n",
        "classifier = SVC(kernel='linear', random_state=0)\n",
        "classifier.fit(X_train, y_train)"
      ],
      "metadata": {
        "id": "3wTabj89wrrD",
        "colab": {
          "base_uri": "https://localhost:8080/",
          "height": 74
        },
        "outputId": "f10ebc34-c814-4d59-d4b9-f3b77e13389a"
      },
      "execution_count": 104,
      "outputs": [
        {
          "output_type": "execute_result",
          "data": {
            "text/plain": [
              "SVC(kernel='linear', random_state=0)"
            ],
            "text/html": [
              "<style>#sk-container-id-4 {color: black;background-color: white;}#sk-container-id-4 pre{padding: 0;}#sk-container-id-4 div.sk-toggleable {background-color: white;}#sk-container-id-4 label.sk-toggleable__label {cursor: pointer;display: block;width: 100%;margin-bottom: 0;padding: 0.3em;box-sizing: border-box;text-align: center;}#sk-container-id-4 label.sk-toggleable__label-arrow:before {content: \"▸\";float: left;margin-right: 0.25em;color: #696969;}#sk-container-id-4 label.sk-toggleable__label-arrow:hover:before {color: black;}#sk-container-id-4 div.sk-estimator:hover label.sk-toggleable__label-arrow:before {color: black;}#sk-container-id-4 div.sk-toggleable__content {max-height: 0;max-width: 0;overflow: hidden;text-align: left;background-color: #f0f8ff;}#sk-container-id-4 div.sk-toggleable__content pre {margin: 0.2em;color: black;border-radius: 0.25em;background-color: #f0f8ff;}#sk-container-id-4 input.sk-toggleable__control:checked~div.sk-toggleable__content {max-height: 200px;max-width: 100%;overflow: auto;}#sk-container-id-4 input.sk-toggleable__control:checked~label.sk-toggleable__label-arrow:before {content: \"▾\";}#sk-container-id-4 div.sk-estimator input.sk-toggleable__control:checked~label.sk-toggleable__label {background-color: #d4ebff;}#sk-container-id-4 div.sk-label input.sk-toggleable__control:checked~label.sk-toggleable__label {background-color: #d4ebff;}#sk-container-id-4 input.sk-hidden--visually {border: 0;clip: rect(1px 1px 1px 1px);clip: rect(1px, 1px, 1px, 1px);height: 1px;margin: -1px;overflow: hidden;padding: 0;position: absolute;width: 1px;}#sk-container-id-4 div.sk-estimator {font-family: monospace;background-color: #f0f8ff;border: 1px dotted black;border-radius: 0.25em;box-sizing: border-box;margin-bottom: 0.5em;}#sk-container-id-4 div.sk-estimator:hover {background-color: #d4ebff;}#sk-container-id-4 div.sk-parallel-item::after {content: \"\";width: 100%;border-bottom: 1px solid gray;flex-grow: 1;}#sk-container-id-4 div.sk-label:hover label.sk-toggleable__label {background-color: #d4ebff;}#sk-container-id-4 div.sk-serial::before {content: \"\";position: absolute;border-left: 1px solid gray;box-sizing: border-box;top: 0;bottom: 0;left: 50%;z-index: 0;}#sk-container-id-4 div.sk-serial {display: flex;flex-direction: column;align-items: center;background-color: white;padding-right: 0.2em;padding-left: 0.2em;position: relative;}#sk-container-id-4 div.sk-item {position: relative;z-index: 1;}#sk-container-id-4 div.sk-parallel {display: flex;align-items: stretch;justify-content: center;background-color: white;position: relative;}#sk-container-id-4 div.sk-item::before, #sk-container-id-4 div.sk-parallel-item::before {content: \"\";position: absolute;border-left: 1px solid gray;box-sizing: border-box;top: 0;bottom: 0;left: 50%;z-index: -1;}#sk-container-id-4 div.sk-parallel-item {display: flex;flex-direction: column;z-index: 1;position: relative;background-color: white;}#sk-container-id-4 div.sk-parallel-item:first-child::after {align-self: flex-end;width: 50%;}#sk-container-id-4 div.sk-parallel-item:last-child::after {align-self: flex-start;width: 50%;}#sk-container-id-4 div.sk-parallel-item:only-child::after {width: 0;}#sk-container-id-4 div.sk-dashed-wrapped {border: 1px dashed gray;margin: 0 0.4em 0.5em 0.4em;box-sizing: border-box;padding-bottom: 0.4em;background-color: white;}#sk-container-id-4 div.sk-label label {font-family: monospace;font-weight: bold;display: inline-block;line-height: 1.2em;}#sk-container-id-4 div.sk-label-container {text-align: center;}#sk-container-id-4 div.sk-container {/* jupyter's `normalize.less` sets `[hidden] { display: none; }` but bootstrap.min.css set `[hidden] { display: none !important; }` so we also need the `!important` here to be able to override the default hidden behavior on the sphinx rendered scikit-learn.org. See: https://github.com/scikit-learn/scikit-learn/issues/21755 */display: inline-block !important;position: relative;}#sk-container-id-4 div.sk-text-repr-fallback {display: none;}</style><div id=\"sk-container-id-4\" class=\"sk-top-container\"><div class=\"sk-text-repr-fallback\"><pre>SVC(kernel=&#x27;linear&#x27;, random_state=0)</pre><b>In a Jupyter environment, please rerun this cell to show the HTML representation or trust the notebook. <br />On GitHub, the HTML representation is unable to render, please try loading this page with nbviewer.org.</b></div><div class=\"sk-container\" hidden><div class=\"sk-item\"><div class=\"sk-estimator sk-toggleable\"><input class=\"sk-toggleable__control sk-hidden--visually\" id=\"sk-estimator-id-4\" type=\"checkbox\" checked><label for=\"sk-estimator-id-4\" class=\"sk-toggleable__label sk-toggleable__label-arrow\">SVC</label><div class=\"sk-toggleable__content\"><pre>SVC(kernel=&#x27;linear&#x27;, random_state=0)</pre></div></div></div></div></div>"
            ]
          },
          "metadata": {},
          "execution_count": 104
        }
      ]
    },
    {
      "cell_type": "code",
      "source": [
        "#   DEPLOYMENT"
      ],
      "metadata": {
        "id": "Ao5rH1Mf3haY"
      },
      "execution_count": 105,
      "outputs": []
    },
    {
      "cell_type": "code",
      "source": [
        "import pickle"
      ],
      "metadata": {
        "id": "l0Mdg3E83j4Q"
      },
      "execution_count": 106,
      "outputs": []
    },
    {
      "cell_type": "code",
      "source": [
        "filename = 'svm_model.sav'\n",
        "pickle.dump(classifier,open(filename,'wb'))"
      ],
      "metadata": {
        "id": "enRcBfEr3yGz"
      },
      "execution_count": 107,
      "outputs": []
    },
    {
      "cell_type": "code",
      "source": [
        "# LOADING THE TRAINED MODEL"
      ],
      "metadata": {
        "id": "e3X_y9mm33Rm"
      },
      "execution_count": 108,
      "outputs": []
    },
    {
      "cell_type": "code",
      "source": [
        "loaded_model = pickle.load(open('stress_trained.sav','rb'))\n",
        "# Download the stress_trained.sav model"
      ],
      "metadata": {
        "id": "0WlTmw6P4BR7"
      },
      "execution_count": 109,
      "outputs": []
    },
    {
      "cell_type": "code",
      "source": [],
      "metadata": {
        "id": "lgZuCN2v4TAT"
      },
      "execution_count": 109,
      "outputs": []
    },
    {
      "cell_type": "code",
      "source": [
        "# Trying to install streamlit\n",
        "!pip install -q streamlit"
      ],
      "metadata": {
        "id": "6S66KiRS4c8_"
      },
      "execution_count": 110,
      "outputs": []
    },
    {
      "cell_type": "code",
      "source": [
        "import numpy as np\n",
        "import pickle\n",
        "\n",
        "# Load the models\n",
        "random_forest_model = pickle.load(open('random_forest_model.sav', 'rb'))\n",
        "svm_model = pickle.load(open('svm_model.sav', 'rb'))\n",
        "logistic_model = pickle.load(open('logistic_model.sav', 'rb'))\n",
        "\n",
        "def main(input_data):\n",
        "    print('STRESS LEVEL PREDICTION')\n",
        "    print()\n",
        "\n",
        "    try:\n",
        "        # Extract input features\n",
        "        input_data = np.array(input_data)\n",
        "\n",
        "        # Check if input data falls within valid ranges\n",
        "        if not (0 <= input_data[0] <= 100 and 0 <= input_data[1] <= 100 and 0 <= input_data[2] <= 10000):\n",
        "            print(\"Invalid input data. Please ensure all values are within valid ranges.\")\n",
        "            return\n",
        "\n",
        "        # Scale the input data\n",
        "        scaled_input = scaler.transform([input_data])\n",
        "\n",
        "        # Make predictions using Random Forest\n",
        "        rf_prediction = random_forest_model.predict(scaled_input)\n",
        "        print(\"Random Forest Prediction:\", rf_prediction)\n",
        "\n",
        "        # Make predictions using SVM\n",
        "        svm_prediction = svm_model.predict(scaled_input)\n",
        "        print(\"SVM Prediction:\", svm_prediction)\n",
        "\n",
        "        # Make predictions using Logistic Regression\n",
        "        logistic_prediction = logistic_model.predict(scaled_input)\n",
        "        print(\"Logistic Regression Prediction:\", logistic_prediction)\n",
        "\n",
        "    except Exception as e:\n",
        "        print(f\"An error occurred: {e}\")\n",
        "\n",
        "if __name__ == '__main__':\n",
        "    # Test input data\n",
        "    input_data = [26.85, 95.85, 169]  # Example data point\n",
        "\n",
        "    # Call main() with the test input data\n",
        "    main(input_data)\n"
      ],
      "metadata": {
        "colab": {
          "base_uri": "https://localhost:8080/"
        },
        "id": "NfMEi2t0NFhB",
        "outputId": "395e893a-b10a-499b-dee9-d4b9d519de75"
      },
      "execution_count": 117,
      "outputs": [
        {
          "output_type": "stream",
          "name": "stdout",
          "text": [
            "STRESS LEVEL PREDICTION\n",
            "\n",
            "Random Forest Prediction: [0]\n",
            "SVM Prediction: [1]\n",
            "Logistic Regression Prediction: [0]\n"
          ]
        },
        {
          "output_type": "stream",
          "name": "stderr",
          "text": [
            "/usr/local/lib/python3.10/dist-packages/sklearn/base.py:439: UserWarning: X does not have valid feature names, but StandardScaler was fitted with feature names\n",
            "  warnings.warn(\n",
            "/usr/local/lib/python3.10/dist-packages/sklearn/base.py:439: UserWarning: X does not have valid feature names, but RandomForestClassifier was fitted with feature names\n",
            "  warnings.warn(\n",
            "/usr/local/lib/python3.10/dist-packages/sklearn/base.py:439: UserWarning: X does not have valid feature names, but LogisticRegression was fitted with feature names\n",
            "  warnings.warn(\n"
          ]
        }
      ]
    },
    {
      "cell_type": "code",
      "source": [],
      "metadata": {
        "id": "rQhGDeWBNoNW"
      },
      "execution_count": 111,
      "outputs": []
    },
    {
      "cell_type": "code",
      "source": [
        "import numpy as np\n",
        "import pickle\n",
        "import streamlit as st\n",
        "from sklearn.preprocessing import StandardScaler\n",
        "import pandas as pd\n",
        "\n",
        "# Load the scaler\n",
        "scaler = pickle.load(open('stress_scaler.sav', 'rb'))\n",
        "# Load the trained models\n",
        "logistic_model = pickle.load(open('logistic_model.sav', 'rb'))\n",
        "random_forest_model = pickle.load(open('random_forest_model.sav', 'rb'))\n",
        "svm_model = pickle.load(open('svm_model.sav', 'rb'))\n",
        "\n",
        "# Preprocess input data with the scaler\n",
        "input_data_scaled = scaler.transform([input_data])\n",
        "\n",
        "# Make predictions using the models\n",
        "logistic_prediction = logistic_model.predict(input_data_scaled)\n",
        "random_forest_prediction = random_forest_model.predict(input_data_scaled)\n",
        "svm_prediction = svm_model.predict(input_data_scaled)\n",
        "\n",
        "# Print predictions\n",
        "print(\"Logistic Regression Prediction:\", logistic_prediction)\n",
        "print(\"Random Forest Prediction:\", random_forest_prediction)\n",
        "print(\"SVM Prediction:\", svm_prediction)\n",
        "\n",
        "# Load the trained model\n",
        "loaded_model = pickle.load(open('stress_trained.sav', 'rb'))\n",
        "\n",
        "# Load the scaler used during training\n",
        "scaler = pickle.load(open('stress_scaler.sav', 'rb'))\n",
        "\n",
        "def stresslevel_prediction(input_data):\n",
        "    # Scale the input features\n",
        "    scaled_input = scaler.transform(input_data)\n",
        "\n",
        "    # Make prediction\n",
        "    prediction_prob = loaded_model.predict_proba(scaled_input)\n",
        "    low_stress_prob, medium_stress_prob, high_stress_prob = prediction_prob[:, 0], prediction_prob[:, 1], prediction_prob[:, 2]\n",
        "\n",
        "    # Return the predicted stress levels\n",
        "    return low_stress_prob, medium_stress_prob, high_stress_prob\n",
        "\n",
        "def main():\n",
        "    st.title('STRESS LEVEL PREDICTION WEB APP')\n",
        "\n",
        "    uploaded_file = st.file_uploader(\"Upload Excel file\", type=['xlsx'])\n",
        "\n",
        "    if uploaded_file is not None:\n",
        "        try:\n",
        "            # Read the uploaded Excel file\n",
        "            data = pd.read_excel(uploaded_file)\n",
        "\n",
        "            # Extract input features\n",
        "            input_data = data[['Humidity', 'Temperature', 'Step_count']].values\n",
        "\n",
        "            # Check if input data falls within valid ranges\n",
        "            valid_range_mask = np.all((input_data >= 0) & (input_data <= [100, 100, 10000]), axis=1)\n",
        "            invalid_data_indices = np.where(~valid_range_mask)[0]\n",
        "\n",
        "            if invalid_data_indices.size > 0:\n",
        "                st.warning(f\"Invalid input data at row(s): {', '.join(map(str, invalid_data_indices + 2))}. Please ensure all values are within valid ranges.\")\n",
        "            else:\n",
        "                # Scale the input data\n",
        "                scaled_input = scaler.transform(input_data)\n",
        "\n",
        "                # Make predictions\n",
        "                low_stress_prob, medium_stress_prob, high_stress_prob = stresslevel_prediction(scaled_input)\n",
        "\n",
        "                # Display the results\n",
        "                result_df = pd.DataFrame({\n",
        "                    'Low Stress Probability': low_stress_prob,\n",
        "                    'Medium Stress Probability': medium_stress_prob,\n",
        "                    'High Stress Probability': high_stress_prob\n",
        "                })\n",
        "                st.write(result_df)\n",
        "\n",
        "        except Exception as e:\n",
        "            st.error(f\"An error occurred: {e}\")\n",
        "\n",
        "if __name__ == '__main__':\n",
        "    main()\n"
      ],
      "metadata": {
        "id": "SdUDGWnM4r5N",
        "colab": {
          "base_uri": "https://localhost:8080/"
        },
        "outputId": "faf6b534-7816-4000-8e0e-9a2894c2488f"
      },
      "execution_count": 131,
      "outputs": [
        {
          "output_type": "stream",
          "name": "stderr",
          "text": [
            "/usr/local/lib/python3.10/dist-packages/sklearn/base.py:439: UserWarning: X does not have valid feature names, but LogisticRegression was fitted with feature names\n",
            "  warnings.warn(\n",
            "/usr/local/lib/python3.10/dist-packages/sklearn/base.py:439: UserWarning: X does not have valid feature names, but RandomForestClassifier was fitted with feature names\n",
            "  warnings.warn(\n",
            "2024-05-03 15:19:10.744 \n",
            "  \u001b[33m\u001b[1mWarning:\u001b[0m to view this Streamlit app on a browser, run it with the following\n",
            "  command:\n",
            "\n",
            "    streamlit run /usr/local/lib/python3.10/dist-packages/colab_kernel_launcher.py [ARGUMENTS]\n"
          ]
        },
        {
          "output_type": "stream",
          "name": "stdout",
          "text": [
            "Logistic Regression Prediction: [1]\n",
            "Random Forest Prediction: [1]\n",
            "SVM Prediction: [2]\n"
          ]
        }
      ]
    },
    {
      "cell_type": "code",
      "source": [
        "!streamlit run /usr/local/lib/python3.10/dist-packages/colab_kernel_launcher.py [ARGUMENTS]"
      ],
      "metadata": {
        "colab": {
          "base_uri": "https://localhost:8080/"
        },
        "id": "DSOiprDkCerG",
        "outputId": "966cf606-bf1c-486a-a756-971069f79cbf"
      },
      "execution_count": null,
      "outputs": [
        {
          "output_type": "stream",
          "name": "stdout",
          "text": [
            "\n",
            "Collecting usage statistics. To deactivate, set browser.gatherUsageStats to false.\n",
            "\u001b[0m\n",
            "\u001b[0m\n",
            "\u001b[34m\u001b[1m  You can now view your Streamlit app in your browser.\u001b[0m\n",
            "\u001b[0m\n",
            "\u001b[34m  Network URL: \u001b[0m\u001b[1mhttp://172.28.0.12:8501\u001b[0m\n",
            "\u001b[34m  External URL: \u001b[0m\u001b[1mhttp://34.28.213.183:8501\u001b[0m\n",
            "\u001b[0m\n"
          ]
        }
      ]
    }
  ]
}